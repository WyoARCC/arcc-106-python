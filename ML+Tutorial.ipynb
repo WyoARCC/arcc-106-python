{
 "cells": [
  {
   "cell_type": "markdown",
   "metadata": {},
   "source": [
    "Linear Regression"
   ]
  },
  {
   "cell_type": "code",
   "execution_count": 1,
   "metadata": {},
   "outputs": [
    {
     "data": {
      "image/png": "[encoded data removed]",
      "text/plain": [
       "<matplotlib.figure.Figure at 0x7f2cf06374e0>"
      ]
     },
     "metadata": {},
     "output_type": "display_data"
    },
    {
     "name": "stdout",
     "output_type": "stream",
     "text": [
      "-0.998539048269\n"
     ]
    }
   ],
   "source": [
    "#import the numpy library\n",
    "import numpy as np\n",
    "\n",
    "#import the library for plotting\n",
    "import matplotlib.pyplot as plt\n",
    "\n",
    "#Data set of 50 random points\n",
    "n=50\n",
    "x=np.random.randn(n)\n",
    "y=np.random.randn(n)\n",
    "\n",
    "#Plot 50 points\n",
    "fig,ax=plt.subplots()\n",
    "\n",
    "#Plot best fitting line \n",
    "fit = np.polyfit(x,y,1)\n",
    "\n",
    "#Plot the straight best fitting line y=slope*x+intercept\n",
    "ax.plot(x, fit[0]*x+fit[1],color='black')\n",
    "\n",
    "ax.scatter(x,y)\n",
    "plt.ylabel('y axis')\n",
    "plt.xlabel('x axis')\n",
    "plt.show()\n",
    "\n",
    "x_input=5\n",
    "predicted_value=fit[0]*x_input+fit[1]\n",
    "print(predicted_value)"
   ]
  },
  {
   "cell_type": "code",
   "execution_count": 8,
   "metadata": {},
   "outputs": [
    {
     "name": "stdout",
     "output_type": "stream",
     "text": [
      "The class to which the new input belongs is:\n",
      "[1]\n"
     ]
    }
   ],
   "source": [
    "#import the scikit-learn library\n",
    "from sklearn import tree #This imports the tree classifier from the \n",
    "#scikit-learn library\n",
    "\n",
    "#Set of inputs\n",
    "inputs_characteristics=[[1,1],[8,0],[5,1],[2,1],[6,0],[9,1],[3,1],[4,1],[7,0]]\n",
    "\n",
    "#classes these inputs belong to\n",
    "class_labels=[0,0,0,1,1,1,2,2,2]\n",
    "\n",
    "#create tree classifier\n",
    "clf=tree.DecisionTreeClassifier();\n",
    "\n",
    "#train the classifier\n",
    "#fit function is find patterns in data\n",
    "clf=clf.fit(inputs_characteristics,class_labels)\n",
    "\n",
    "print(\"The class to which the new input belongs is:\")\n",
    "print(clf.predict([[10,10]]))\n"
   ]
  },
  {
   "cell_type": "markdown",
   "metadata": {},
   "source": [
    "### Support Vector Machines"
   ]
  },
  {
   "cell_type": "code",
   "execution_count": 14,
   "metadata": {},
   "outputs": [
    {
     "data": {
      "image/png": "[encoded data removed]",
      "text/plain": [
       "<matplotlib.figure.Figure at 0x7f2cc173c208>"
      ]
     },
     "metadata": {},
     "output_type": "display_data"
    },
    {
     "name": "stdout",
     "output_type": "stream",
     "text": [
      "The class of the new input is:\n",
      "[0]\n"
     ]
    },
    {
     "name": "stderr",
     "output_type": "stream",
     "text": [
      "/apps/opt/anaconda3/lib/python3.6/site-packages/sklearn/utils/validation.py:395: DeprecationWarning: Passing 1d arrays as data is deprecated in 0.17 and will raise ValueError in 0.19. Reshape your data either using X.reshape(-1, 1) if your data has a single feature or X.reshape(1, -1) if it contains a single sample.\n",
      "  DeprecationWarning)\n"
     ]
    }
   ],
   "source": [
    "#import basic libraries\n",
    "import numpy as np\n",
    "import matplotlib.pyplot as plt\n",
    "from matplotlib import style\n",
    "\n",
    "#emulate the aesthetics of ggplot in R\n",
    "style.use(\"ggplot\")\n",
    "\n",
    "from sklearn import svm\n",
    "\n",
    "#input data\n",
    "X=[1,5,1.5,8,1,9]\n",
    "Y=[2,8,1.8,8,0.6,11]\n",
    "\n",
    "labels=[0,1,0,1,0,1]\n",
    "\n",
    "clf=svm.SVC(kernel='linear',C=1.0)\n",
    "\n",
    "input_data=[[1,2],[5,8],[1.5,1.8],[8,8],[1,0.6],[9,11]]\n",
    "\n",
    "clf.fit(input_data,labels)\n",
    "\n",
    "#returns the coefficients of the hyperplane (SVM)\n",
    "w=clf.coef_[0]\n",
    "\n",
    "#using the coefficients find the slope or direction of the hyperplane\n",
    "a=-w[0]/w[1]\n",
    "\n",
    "#find points for hyperplane\n",
    "#linspace\n",
    "xx=np.linspace(0,12)\n",
    "#equation for hyperplane\n",
    "yy=a*xx-clf.intercept_[0]/w[1]\n",
    "\n",
    "#plot the hyperplane\n",
    "hyperplane=plt.plot(xx,yy,'k-',label=\"svm\")\n",
    "plt.scatter(X,Y)\n",
    "plt.legend()\n",
    "plt.show()\n",
    "\n",
    "print(\"The class of the new input is:\")\n",
    "print(clf.predict([0.58,0.76]))"
   ]
  },
  {
   "cell_type": "markdown",
   "metadata": {},
   "source": [
    "### K-Nearest Neighbour"
   ]
  },
  {
   "cell_type": "code",
   "execution_count": 22,
   "metadata": {},
   "outputs": [
    {
     "name": "stdout",
     "output_type": "stream",
     "text": [
      "result:  [[ 0.]] \n",
      "\n",
      "neighbours: [[ 1.  0.  0.]] \n",
      "\n",
      "distance: [[  29.   32.  122.]]\n"
     ]
    },
    {
     "data": {
      "image/png": "[encoded data removed]",
      "text/plain": [
       "<matplotlib.figure.Figure at 0x7f2cb5310c50>"
      ]
     },
     "metadata": {},
     "output_type": "display_data"
    }
   ],
   "source": [
    "import cv2\n",
    "import numpy as np\n",
    "import matplotlib.pyplot as plt\n",
    "\n",
    "trainData=np.random.randint(0,100,(25,2)).astype(np.float32)\n",
    "responses=np.random.randint(0,2,(25,1)).astype(np.float32)\n",
    "\n",
    "red=trainData[responses.ravel()==0]\n",
    "plt.scatter(red[:,0],red[:,1],80,'r','^')\n",
    "\n",
    "blue=trainData[responses.ravel()==1]\n",
    "plt.scatter(blue[:,0],blue[:,1],80,'b','s')\n",
    "\n",
    "#get in new comer and plot it\n",
    "newcomer=np.random.randint(0,100,(1,2)).astype(np.float32)\n",
    "plt.scatter(newcomer[:,0],newcomer[:,1],80,'g','o')\n",
    "\n",
    "#Create the K-nearest neighbour classifer\n",
    "knn=cv2.ml.KNearest_create();\n",
    "#train the classifier\n",
    "#passing 0 as a parameter considers the length of array as 1 for entire row.\n",
    "knn.train(trainData,0,responses)\n",
    "ret,results,neighbours,dist=knn.findNearest(newcomer,3)\n",
    "print(\"result: \",results,\"\\n\")\n",
    "print(\"neighbours:\",neighbours,\"\\n\")\n",
    "print(\"distance:\",dist)\n",
    "plt.show()\n"
   ]
  },
  {
   "cell_type": "markdown",
   "metadata": {},
   "source": [
    "### NEURAL NETWORK"
   ]
  },
  {
   "cell_type": "code",
   "execution_count": 26,
   "metadata": {},
   "outputs": [
    {
     "name": "stdout",
     "output_type": "stream",
     "text": [
      "The weights that the neural network found was:\n",
      "[[ 0.77051871]\n",
      " [ 1.85826276]\n",
      " [-3.820081  ]]\n",
      "The new predicted output is:\n",
      "[ 0.82077161]\n"
     ]
    }
   ],
   "source": [
    "import numpy as np\n",
    "\n",
    "#define prediction function\n",
    "def sigmoid(x):\n",
    "    return 1/(1+np.exp(-x))\n",
    "\n",
    "#define inputs\n",
    "x=np.array([[0.45,0,0.21],[0.5,0.32,0.21],[0.6,0.5,0.19],[0.7,0.9,0.19]])\n",
    "\n",
    "#output\n",
    "y=np.array([[0.5,0.4,0.6,0.9]]).T\n",
    "\n",
    "#good practice\n",
    "np.random.seed(1)\n",
    "\n",
    "#Define weights\n",
    "weights=2*np.random.random((3,1))-1\n",
    "\n",
    "for iter in range(1000):\n",
    "    #get inputs\n",
    "    input_var=x\n",
    "    #output\n",
    "    dot_prod=np.dot(input_var,weights)\n",
    "    \n",
    "    #predict output\n",
    "    output=sigmoid(dot_prod)\n",
    "\n",
    "    #find how much we missed by from actual output\n",
    "    error=y-output;\n",
    "    \n",
    "    #adjust weights accordingly\n",
    "    weights+=np.dot(input_var.T,error)\n",
    "\n",
    "#print the weights best suited for our prediction model\n",
    "print(\"The weights that the neural network found was:\")\n",
    "print(weights)\n",
    "\n",
    "new_input=np.array([0.3,0.9,0.1])\n",
    "new_input_dot_product=np.dot(new_input,weights)\n",
    "predicted_output=sigmoid(new_input_dot_product)\n",
    "print(\"The new predicted output is:\")\n",
    "print(predicted_output)\n",
    "    "
   ]
  },
  {
   "cell_type": "code",
   "execution_count": null,
   "metadata": {
    "collapsed": true
   },
   "outputs": [],
   "source": []
  }
 ],
 "metadata": {
  "kernelspec": {
   "display_name": "Python 3",
   "language": "python",
   "name": "python3"
  },
  "language_info": {
   "codemirror_mode": {
    "name": "ipython",
    "version": 3
   },
   "file_extension": ".py",
   "mimetype": "text/x-python",
   "name": "python",
   "nbconvert_exporter": "python",
   "pygments_lexer": "ipython3",
   "version": "3.6.0"
  }
 },
 "nbformat": 4,
 "nbformat_minor": 2
}
