{
 "cells": [
  {
   "cell_type": "markdown",
   "metadata": {},
   "source": [
    "#  Machine Learning Using Python by ARCC"
   ]
  },
  {
   "cell_type": "markdown",
   "metadata": {},
   "source": [
    "## What is Machine Learning?"
   ]
  },
  {
   "cell_type": "markdown",
   "metadata": {},
   "source": [
    "Machine Learning is the subfield of computer science, which is defined by Arthur Samuel as \"Giving computers the ability to learn without being explicitly programmed\". Generally speaking, it can be defined as the ability of machines to learn to perform a task efficiently based on experience."
   ]
  },
  {
   "cell_type": "markdown",
   "metadata": {},
   "source": [
    "## Two major types of Machine Learning problems"
   ]
  },
  {
   "cell_type": "markdown",
   "metadata": {},
   "source": [
    "The two major types of Machine Learning problems are: \n",
    "1. Supervised Learning : In this type of Machine Learning problem, the learning algorithms are provided with a data set that has a known label or result, such as classifying a bunch of emails as spam/not-spam emails.\n",
    "2. Unsupervised Learning : In this type of Machine Learning problem, the learning algorithms are provided with a data set that has no known label or result. The algorithm without any supervision is expected to find some structure in the data by itself. For example search engines."
   ]
  },
  {
   "cell_type": "markdown",
   "metadata": {},
   "source": [
    "In order to limit the scope of this boot camp, as well as save us some time, we will focus on Supervised Learning today."
   ]
  },
  {
   "cell_type": "markdown",
   "metadata": {},
   "source": [
    "## Machine Learning's \"Hello World\" programs"
   ]
  },
  {
   "cell_type": "markdown",
   "metadata": {},
   "source": [
    "## Supervised Learning"
   ]
  },
  {
   "cell_type": "markdown",
   "metadata": {},
   "source": [
    "In this section we focus on three Supervised Learning algorithms namely Linear Regression, Linear Classifier and Support Vector Machines."
   ]
  },
  {
   "cell_type": "markdown",
   "metadata": {},
   "source": [
    "## Linear Regression"
   ]
  },
  {
   "cell_type": "markdown",
   "metadata": {},
   "source": [
    "In order to explain what Linear Regression is, lets write a program that performs Linear Regression. Our goal is to find the best fitting straight line through a data set comprising of 50 random points. "
   ]
  },
  {
   "cell_type": "markdown",
   "metadata": {},
   "source": [
    "Equation of a line in slope intercept form is: $y=m*x+C$"
   ]
  },
  {
   "cell_type": "code",
   "execution_count": 17,
   "metadata": {},
   "outputs": [
    {
     "data": {
      "image/png": "[encoded data removed]",
      "text/plain": [
       "<matplotlib.figure.Figure at 0x7f9daafc6da0>"
      ]
     },
     "metadata": {},
     "output_type": "display_data"
    },
    {
     "name": "stdout",
     "output_type": "stream",
     "text": [
      "0.271414517289\n"
     ]
    }
   ],
   "source": [
    "#NumPy is the fundamental package for scientific computing with Python\n",
    "import numpy as np\n",
    "\n",
    "# Matplotlib is a Python 2D plotting library \n",
    "import matplotlib.pyplot as plt\n",
    "\n",
    "#Number of data points\n",
    "n=50\n",
    "x=np.random.randn(n)\n",
    "y=np.random.randn(n)\n",
    "\n",
    "#Create a figure and a set of subplots\n",
    "fig, ax = plt.subplots()\n",
    "\n",
    "#Find best fitting straight line\n",
    "#This will return the coefficients of the best fitting straight line \n",
    "#i.e. m and c in the slope intercept form of a line-> y=m*x+c\n",
    "fit = np.polyfit(x, y, 1)\n",
    "\n",
    "#Plot the straight line\n",
    "ax.plot(x, fit[0] * x + fit[1], color='black')\n",
    "\n",
    "#scatter plot the data set\n",
    "ax.scatter(x, y)\n",
    "\n",
    "plt.ylabel('y axis')\n",
    "plt.xlabel('x axis')\n",
    "plt.show()\n",
    "\n",
    "#predict output for an input say x=5\n",
    "x_input=5\n",
    "predicted_value= fit[0] * x_input + fit[1]\n",
    "print(predicted_value)"
   ]
  },
  {
   "cell_type": "markdown",
   "metadata": {},
   "source": [
    "Using the best fittng straight line, we can predict the next expected value. Hence Regression is a Machine Learning technique which helps to predict the output in a model that takes continous values."
   ]
  },
  {
   "cell_type": "markdown",
   "metadata": {},
   "source": [
    "## Linear Classifier"
   ]
  },
  {
   "cell_type": "markdown",
   "metadata": {},
   "source": [
    "A classifier, for now, can be thought of as a program that uses an object's characteristics to identify which class it belongs to. For example, classifying a fruit as an orange or an apple. The following program is a simple Supervised Learning classifier, that makes use of a decision tree classifier (An example of a decision tree is shown below). \n",
    "\n",
    "![title](image3.png)"
   ]
  },
  {
   "cell_type": "code",
   "execution_count": 18,
   "metadata": {},
   "outputs": [
    {
     "name": "stdout",
     "output_type": "stream",
     "text": [
      "[1]\n"
     ]
    }
   ],
   "source": [
    "#Import the decision tree classifier class from the scikit-learn machine learning library\n",
    "from sklearn import tree\n",
    "\n",
    "#List of features\n",
    "#Say we have 9 inputs each with two features i.e. [feature one=1:9, feature two=0 or 1] \n",
    "features=[[1,1],[8,0],[5,1],[2,1],[6,0],[9,1],[3,1],[4,1],[7,0]]\n",
    "\n",
    "#The 9 inputs are classified explicitly into three classes (0,1 and 2) by us\n",
    "# For example input 1,1 belongs to class 0\n",
    "#             input 4,1 belongs to class 1\n",
    "#             input 8,1 belongs to class 2\n",
    "labels=[0,0,0,1,1,1,2,2,2]\n",
    "\n",
    "#Features are the inputs to the classifier and labels are the outputs\n",
    "\n",
    "#Create decision tree classifier\n",
    "clf=tree.DecisionTreeClassifier()\n",
    "#Training algorithm, included in the object, is executed\n",
    "clf=clf.fit(features,labels) #Fit is a synonym for \n",
    "\"find patterns in data\"\n",
    "\n",
    "#Predict to which class does an input belong\n",
    "#for example [20,1]\n",
    "print (clf.predict([[2,1]]))"
   ]
  },
  {
   "cell_type": "markdown",
   "metadata": {},
   "source": [
    "### Support Vector Machines"
   ]
  },
  {
   "cell_type": "markdown",
   "metadata": {},
   "source": [
    "“Support Vector Machine” (SVM) is a supervised machine learning algorithm which can be used for both classification or regression challenges. However, it is mostly used in classification problems. An example of SVM would be using a linear hyperplane to seperate two clusters of data points. The following code implements the same. "
   ]
  },
  {
   "cell_type": "code",
   "execution_count": 19,
   "metadata": {},
   "outputs": [
    {
     "name": "stdout",
     "output_type": "stream",
     "text": [
      "[0]\n",
      "[1]\n"
     ]
    },
    {
     "name": "stderr",
     "output_type": "stream",
     "text": [
      "/apps/opt/anaconda3/lib/python3.6/site-packages/sklearn/utils/validation.py:395: DeprecationWarning: Passing 1d arrays as data is deprecated in 0.17 and will raise ValueError in 0.19. Reshape your data either using X.reshape(-1, 1) if your data has a single feature or X.reshape(1, -1) if it contains a single sample.\n",
      "  DeprecationWarning)\n",
      "/apps/opt/anaconda3/lib/python3.6/site-packages/sklearn/utils/validation.py:395: DeprecationWarning: Passing 1d arrays as data is deprecated in 0.17 and will raise ValueError in 0.19. Reshape your data either using X.reshape(-1, 1) if your data has a single feature or X.reshape(1, -1) if it contains a single sample.\n",
      "  DeprecationWarning)\n"
     ]
    },
    {
     "data": {
      "image/png": "[encoded data removed]",
      "text/plain": [
       "<matplotlib.figure.Figure at 0x7f9daafaccc0>"
      ]
     },
     "metadata": {},
     "output_type": "display_data"
    }
   ],
   "source": [
    "#import basic libraries for plotting and scientific computing\n",
    "import numpy as np\n",
    "import matplotlib.pyplot as plt\n",
    "from matplotlib import style\n",
    "#emulates the aesthetics of ggplot in R\n",
    "style.use(\"ggplot\")\n",
    "\n",
    "#import class svm from scikit-learn\n",
    "from sklearn import svm\n",
    "\n",
    "#input data\n",
    "X = [1, 5, 1.5, 8, 1, 9]\n",
    "Y = [2, 8, 1.8, 8, 0.6, 11]\n",
    "\n",
    "#classes assigned to input data\n",
    "y = [0,1,0,1,0,1]\n",
    "\n",
    "#plot input data\n",
    "#plt.scatter(X,Y)\n",
    "#plt.show()\n",
    "\n",
    "#Create the Linear Support Vector Classification\n",
    "clf = svm.SVC(kernel='linear', C = 1.0)\n",
    "\n",
    "#input data in 2-D\n",
    "points=[[1,2],[5,8],[1.5,1.8],[8,8],[1,0.6],[9,11]]#,[2,2],[1,4]]\n",
    "\n",
    "#Fit the data with Linear Support Vector Classification\n",
    "clf.fit(points,y) #Fit is a synonym for \"find patterns in data\"\n",
    "\n",
    "#Predict the class for the following two points depending on which side of the SVM they lie\n",
    "print(clf.predict([0.58,0.76]))\n",
    "print(clf.predict([10.58,10.76]))\n",
    "\n",
    "#find coefficients of the linear svm\n",
    "w = clf.coef_[0]\n",
    "#print(w)\n",
    "\n",
    "#find slope of the line we wish to draw between the two classes\n",
    "#a=change in y/change in x\n",
    "a = -w[0] / w[1]\n",
    "\n",
    "#Draw the line\n",
    "\n",
    "#x points for a line\n",
    "#linspace ->Return evenly spaced numbers over a specified interval.\n",
    "xx = np.linspace(0,12)\n",
    "#equation our SVM hyperplane\n",
    "yy = a * xx - clf.intercept_[0] / w[1]\n",
    "\n",
    "#plot the hyperplane\n",
    "h0 = plt.plot(xx, yy, 'k-', label=\"svm\") \n",
    "#plot the data points as a scatter plot\n",
    "plt.scatter(X,Y)\n",
    "plt.legend()\n",
    "plt.show()\n"
   ]
  },
  {
   "cell_type": "markdown",
   "metadata": {},
   "source": [
    "### Basic workflow when using Machine Learning algorithms\n",
    "\n",
    "![title](image4.png)"
   ]
  },
  {
   "cell_type": "markdown",
   "metadata": {},
   "source": [
    "## Neural Networks"
   ]
  },
  {
   "cell_type": "markdown",
   "metadata": {},
   "source": [
    "Neural Networks can be thought of as a one large composite function, which is comprised of other functions. Each layer is a function that is fed an input which is the result of the previous function's output.\n",
    "For example:\n",
    "![title](image.png)\n",
    "\n",
    "The example above was rather rudimentary. Let us look at a case where we have more than one inputs, fed to a prediction function that maps them to an output. This can be depicted by the following graph.\n",
    "![title](image2.png)\n"
   ]
  },
  {
   "cell_type": "markdown",
   "metadata": {},
   "source": [
    "### Building a Neural Network"
   ]
  },
  {
   "cell_type": "markdown",
   "metadata": {},
   "source": [
    "The function carried out by our layer is termed as the sigmoid. It takes the form: $1/(1+exp(-x))$"
   ]
  },
  {
   "cell_type": "markdown",
   "metadata": {},
   "source": [
    "Steps to follow to create our neural network:\n",
    "<br>\n",
    "1) Get set of input\n",
    "<br>\n",
    "2) dot with a set of weights i.e. weight1*input1+weight2*input2+weight3*input3\n",
    "<br>\n",
    "3) send the dot product to our prediction function i.e. sigmoid\n",
    "<br>\n",
    "4) check how much we missed i.e. calculate error\n",
    "<br>\n",
    "5) adjust weights accordingly\n",
    "<br>\n",
    "6) Do this for all inputs and about 1000 times"
   ]
  },
  {
   "cell_type": "code",
   "execution_count": 20,
   "metadata": {},
   "outputs": [
    {
     "name": "stdout",
     "output_type": "stream",
     "text": [
      "The weights that the neural network found was:\n",
      "[[ 0.77051871]\n",
      " [ 1.85826276]\n",
      " [-3.820081  ]]\n",
      "Predicted Output:\n",
      "[ 0.82077161]\n"
     ]
    }
   ],
   "source": [
    "#import numpy library\n",
    "import numpy as np\n",
    "\n",
    "# Sigmoid function which maps any value to between 0 and 1 \n",
    "# This is the function which will our layers will comprise of\n",
    "# It is used to convert numbers to probabilties\n",
    "\n",
    "def sigmoid(x):\n",
    "    return 1/(1+np.exp(-x))\n",
    "\n",
    "# input dataset\n",
    "# 4 set of inputs\n",
    "x = np.array([[0.45,0,0.21],[0.5,0.32,0.21],[0.6,0.5,0.19],[0.7,0.9,0.19]])\n",
    " \n",
    "# output dataset corresponding to our set of inputs    \n",
    "# .T takes the transpose of the 1x4 matrix which will give us a 4x1 matrix\n",
    "y = np.array([[0.5,0.4,0.6,0.9]]).T\n",
    "\n",
    "#Makes our model deterministic for us to judge the outputs better\n",
    "#Numbers will be randomly distributed but randomly distributed in exactly the same way each time the model is trained\n",
    "np.random.seed(1)\n",
    " \n",
    "# initialize weights randomly with mean 0, weights lie within -1 to 1\n",
    "# dimensions are 3x1 because we have three inputs and one output\n",
    "weights = 2*np.random.random((3,1))-1\n",
    "\n",
    "\n",
    "#Network training code\n",
    "#Train our neural network\n",
    "for iter in range(1000):\n",
    "    #get input\n",
    "    input_var = x\n",
    "    \n",
    "    #This is our prediction step\n",
    "    #first predict given input, then study how it performs and adjust to get better\n",
    "    #This line first multiplies the input by the weights and then passes it to the sigmoid function\n",
    "    output = sigmoid(np.dot(input_var,weights))\n",
    "    \n",
    "    #now we have guessed an output based on the provided input\n",
    "    #subtract from the actual answer to see how much did we miss\n",
    "    error = y - output\n",
    "\n",
    "    #based on error update our weights\n",
    "    weights += np.dot(input_var.T,error)\n",
    "\n",
    "#The best fit weights by our neural net is as following:\n",
    "print(\"The weights that the neural network found was:\")\n",
    "print(weights)\n",
    "\n",
    "#Predict with new inputs i.e. dot with weights and then send to our prediction function\n",
    "predicted_output = sigmoid(np.dot(np.array([0.3,0.9,0.1]),weights))\n",
    "print (\"Predicted Output:\")\n",
    "print (predicted_output)"
   ]
  },
  {
   "cell_type": "markdown",
   "metadata": {},
   "source": [
    "### Optional : "
   ]
  },
  {
   "cell_type": "markdown",
   "metadata": {},
   "source": [
    "### K-Nearest Neighbour"
   ]
  },
  {
   "cell_type": "markdown",
   "metadata": {},
   "source": [
    "![title](image5.png)"
   ]
  },
  {
   "cell_type": "code",
   "execution_count": 21,
   "metadata": {},
   "outputs": [
    {
     "name": "stdout",
     "output_type": "stream",
     "text": [
      "result:  [[ 1.]] \n",
      "\n",
      "neighbours:  [[ 1.  1.  0.]] \n",
      "\n",
      "distance:  [[ 145.  205.  293.]]\n"
     ]
    },
    {
     "data": {
      "image/png": "[encoded data removed]",
      "text/plain": [
       "<matplotlib.figure.Figure at 0x7f9daaf3db00>"
      ]
     },
     "metadata": {},
     "output_type": "display_data"
    }
   ],
   "source": [
    "import cv2\n",
    "import numpy as np\n",
    "import matplotlib.pyplot as plt\n",
    "\n",
    "# Feature set containing (x,y) values of 25 known/training data\n",
    "trainData = np.random.randint(0,100,(25,2)).astype(np.float32)\n",
    "\n",
    "# Labels each one either Red or Blue with numbers 0 and 1\n",
    "responses = np.random.randint(0,2,(25,1)).astype(np.float32)\n",
    "\n",
    "# Take Red families and plot them\n",
    "red = trainData[responses.ravel()==0]\n",
    "plt.scatter(red[:,0],red[:,1],80,'r','^')\n",
    "\n",
    "# Take Blue families and plot them\n",
    "blue = trainData[responses.ravel()==1]\n",
    "plt.scatter(blue[:,0],blue[:,1],80,'b','s')\n",
    "\n",
    "#New unknown data point\n",
    "newcomer = np.random.randint(0,100,(1,2)).astype(np.float32)\n",
    "#Make this unknown data point green\n",
    "plt.scatter(newcomer[:,0],newcomer[:,1],80,'g','o')\n",
    "\n",
    "#Carry out the K nearest neighbour classification\n",
    "knn = cv2.ml.KNearest_create()\n",
    "#Train the algorithm\n",
    "#passing 0 as a parameter considers the length of array as 1 for entire row.\n",
    "knn.train(trainData, 0, responses)\n",
    "#Find 3 nearest neighbours...also make sure the neighbours found belong to both classes\n",
    "ret, results, neighbours ,dist = knn.findNearest(newcomer, 3)\n",
    "print (\"result: \", results,\"\\n\")\n",
    "print (\"neighbours: \", neighbours,\"\\n\")\n",
    "print (\"distance: \", dist)\n",
    "plt.show()"
   ]
  },
  {
   "cell_type": "markdown",
   "metadata": {},
   "source": [
    "## Additional resources to further learn Python"
   ]
  },
  {
   "cell_type": "markdown",
   "metadata": {},
   "source": [
    "Tutorials by python.org at https://docs.python.org/3/tutorial/"
   ]
  },
  {
   "cell_type": "markdown",
   "metadata": {},
   "source": [
    "Python for everybody specialization by the University of Michigan at www.coursera.org"
   ]
  },
  {
   "cell_type": "markdown",
   "metadata": {},
   "source": [
    "Python intro course on Data Camp at https://www.datacamp.com/courses/intro-to-python-for-data-science"
   ]
  },
  {
   "cell_type": "markdown",
   "metadata": {},
   "source": [
    "Free exercises at https://learnpythonthehardway.org/book/"
   ]
  }
 ],
 "metadata": {
  "kernelspec": {
   "display_name": "Python 3",
   "language": "python",
   "name": "python3"
  },
  "language_info": {
   "codemirror_mode": {
    "name": "ipython",
    "version": 3
   },
   "file_extension": ".py",
   "mimetype": "text/x-python",
   "name": "python",
   "nbconvert_exporter": "python",
   "pygments_lexer": "ipython3",
   "version": "3.6.0"
  }
 },
 "nbformat": 4,
 "nbformat_minor": 2
}
