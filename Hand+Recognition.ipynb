{
 "cells": [
  {
   "cell_type": "code",
   "execution_count": 2,
   "metadata": {
    "collapsed": true
   },
   "outputs": [],
   "source": [
    "import numpy as np\n",
    "import matplotlib.pyplot as plt\n",
    "%matplotlib inline\n",
    "import tensorflow as tf\n",
    "learn=tf.contrib.learn\n",
    "tf.logging.set_verbosity(tf.logging.ERROR)"
   ]
  },
  {
   "cell_type": "code",
   "execution_count": 5,
   "metadata": {},
   "outputs": [
    {
     "name": "stdout",
     "output_type": "stream",
     "text": [
      "Extracting MNIST-data/train-images-idx3-ubyte.gz\n",
      "Extracting MNIST-data/train-labels-idx1-ubyte.gz\n",
      "Extracting MNIST-data/t10k-images-idx3-ubyte.gz\n",
      "Extracting MNIST-data/t10k-labels-idx1-ubyte.gz\n"
     ]
    }
   ],
   "source": [
    "mnist=learn.datasets.load_dataset('mnist')\n",
    "data=mnist.train.images\n",
    "labels=np.asarray(mnist.train.labels,dtype=np.int32)\n",
    "test_data=mnist.test.images\n",
    "test_labels=np.asarray(mnist.test.labels,dtype=np.int32)"
   ]
  },
  {
   "cell_type": "code",
   "execution_count": 6,
   "metadata": {
    "collapsed": true
   },
   "outputs": [],
   "source": [
    "max_examples=10000\n",
    "data=data[:max_examples]\n",
    "labels=labels[:max_examples]"
   ]
  },
  {
   "cell_type": "code",
   "execution_count": 9,
   "metadata": {},
   "outputs": [],
   "source": [
    "def display(i):\n",
    "    img=test_data[i]\n",
    "    plt.title('Example %d. Label:%d' % (i,test_labels[i]))\n",
    "    plt.imshow(img.reshape((28,28)),cmap=plt.cm.gray_r)"
   ]
  },
  {
   "cell_type": "code",
   "execution_count": 10,
   "metadata": {},
   "outputs": [
    {
     "data": {
      "image/png": "[encoded data removed]",
      "text/plain": [
       "<matplotlib.figure.Figure at 0x7f2882b5b080>"
      ]
     },
     "metadata": {},
     "output_type": "display_data"
    }
   ],
   "source": [
    "display(0)"
   ]
  },
  {
   "cell_type": "code",
   "execution_count": 11,
   "metadata": {},
   "outputs": [
    {
     "data": {
      "image/png": "[encoded data removed]",
      "text/plain": [
       "<matplotlib.figure.Figure at 0x7f2882a3d3c8>"
      ]
     },
     "metadata": {},
     "output_type": "display_data"
    }
   ],
   "source": [
    "display(1)"
   ]
  },
  {
   "cell_type": "code",
   "execution_count": 13,
   "metadata": {},
   "outputs": [
    {
     "name": "stdout",
     "output_type": "stream",
     "text": [
      "784\n"
     ]
    }
   ],
   "source": [
    "print (len(data[0]))"
   ]
  },
  {
   "cell_type": "code",
   "execution_count": 14,
   "metadata": {},
   "outputs": [
    {
     "data": {
      "text/plain": [
       "LinearClassifier(params={'head': <tensorflow.contrib.learn.python.learn.estimators.head._MultiClassHead object at 0x7f2882a28630>, 'feature_columns': [_RealValuedColumn(column_name='', dimension=784, default_value=None, dtype=tf.float32, normalizer=None)], 'optimizer': None, 'gradient_clip_norm': None, 'joint_weights': False})"
      ]
     },
     "execution_count": 14,
     "metadata": {},
     "output_type": "execute_result"
    }
   ],
   "source": [
    "feature_columns=learn.infer_real_valued_columns_from_input(data)\n",
    "classifier=learn.LinearClassifier(feature_columns=feature_columns,n_classes=10)\n",
    "classifier.fit(data,labels,batch_size=100,steps=1000)"
   ]
  },
  {
   "cell_type": "code",
   "execution_count": 17,
   "metadata": {},
   "outputs": [
    {
     "name": "stdout",
     "output_type": "stream",
     "text": [
      "accuracy of our classifier is:\n",
      "{'loss': 0.31026524, 'accuracy': 0.91369998, 'global_step': 1000}\n"
     ]
    }
   ],
   "source": [
    "classifier.evaluate(test_data,test_labels)\n",
    "print(\"accuracy of our classifier is:\")\n",
    "print (classifier.evaluate(test_data,test_labels))"
   ]
  },
  {
   "cell_type": "code",
   "execution_count": 30,
   "metadata": {},
   "outputs": [
    {
     "name": "stdout",
     "output_type": "stream",
     "text": [
      "Predicted label and actual label are as following:\n",
      "ERROR:tensorflow:==================================\n",
      "Object was never used (type <class 'tensorflow.python.framework.ops.Tensor'>):\n",
      "<tf.Tensor 'report_uninitialized_variables_1/boolean_mask/Gather:0' shape=(?,) dtype=string>\n",
      "If you want to mark it as used call its \"mark_used()\" method.\n",
      "It was originally created here:\n",
      "['File \"/home/arcc/anaconda3/lib/python3.6/runpy.py\", line 193, in _run_module_as_main\\n    \"__main__\", mod_spec)', 'File \"/home/arcc/anaconda3/lib/python3.6/runpy.py\", line 85, in _run_code\\n    exec(code, run_globals)', 'File \"/home/arcc/anaconda3/lib/python3.6/site-packages/ipykernel_launcher.py\", line 16, in <module>\\n    app.launch_new_instance()', 'File \"/home/arcc/anaconda3/lib/python3.6/site-packages/traitlets/config/application.py\", line 658, in launch_instance\\n    app.start()', 'File \"/home/arcc/anaconda3/lib/python3.6/site-packages/ipykernel/kernelapp.py\", line 477, in start\\n    ioloop.IOLoop.instance().start()', 'File \"/home/arcc/anaconda3/lib/python3.6/site-packages/zmq/eventloop/ioloop.py\", line 177, in start\\n    super(ZMQIOLoop, self).start()', 'File \"/home/arcc/anaconda3/lib/python3.6/site-packages/tornado/ioloop.py\", line 888, in start\\n    handler_func(fd_obj, events)', 'File \"/home/arcc/anaconda3/lib/python3.6/site-packages/tornado/stack_context.py\", line 277, in null_wrapper\\n    return fn(*args, **kwargs)', 'File \"/home/arcc/anaconda3/lib/python3.6/site-packages/zmq/eventloop/zmqstream.py\", line 440, in _handle_events\\n    self._handle_recv()', 'File \"/home/arcc/anaconda3/lib/python3.6/site-packages/zmq/eventloop/zmqstream.py\", line 472, in _handle_recv\\n    self._run_callback(callback, msg)', 'File \"/home/arcc/anaconda3/lib/python3.6/site-packages/zmq/eventloop/zmqstream.py\", line 414, in _run_callback\\n    callback(*args, **kwargs)', 'File \"/home/arcc/anaconda3/lib/python3.6/site-packages/tornado/stack_context.py\", line 277, in null_wrapper\\n    return fn(*args, **kwargs)', 'File \"/home/arcc/anaconda3/lib/python3.6/site-packages/ipykernel/kernelbase.py\", line 283, in dispatcher\\n    return self.dispatch_shell(stream, msg)', 'File \"/home/arcc/anaconda3/lib/python3.6/site-packages/ipykernel/kernelbase.py\", line 235, in dispatch_shell\\n    handler(stream, idents, msg)', 'File \"/home/arcc/anaconda3/lib/python3.6/site-packages/ipykernel/kernelbase.py\", line 399, in execute_request\\n    user_expressions, allow_stdin)', 'File \"/home/arcc/anaconda3/lib/python3.6/site-packages/ipykernel/ipkernel.py\", line 196, in do_execute\\n    res = shell.run_cell(code, store_history=store_history, silent=silent)', 'File \"/home/arcc/anaconda3/lib/python3.6/site-packages/ipykernel/zmqshell.py\", line 533, in run_cell\\n    return super(ZMQInteractiveShell, self).run_cell(*args, **kwargs)', 'File \"/home/arcc/anaconda3/lib/python3.6/site-packages/IPython/core/interactiveshell.py\", line 2717, in run_cell\\n    interactivity=interactivity, compiler=compiler, result=result)', 'File \"/home/arcc/anaconda3/lib/python3.6/site-packages/IPython/core/interactiveshell.py\", line 2821, in run_ast_nodes\\n    if self.run_code(code, result):', 'File \"/home/arcc/anaconda3/lib/python3.6/site-packages/IPython/core/interactiveshell.py\", line 2881, in run_code\\n    exec(code_obj, self.user_global_ns, self.user_ns)', 'File \"<ipython-input-18-e9aa2449c84c>\", line 1, in <module>\\n    print(\"Predicted %d, Label:%d\" %(classifier.predict(test_data[0]),test_labels[0]))', 'File \"/home/arcc/anaconda3/lib/python3.6/site-packages/tensorflow/python/util/deprecation.py\", line 347, in new_func\\n    return func(*args, **kwargs)', 'File \"/home/arcc/anaconda3/lib/python3.6/site-packages/tensorflow/python/util/deprecation.py\", line 347, in new_func\\n    return func(*args, **kwargs)', 'File \"/home/arcc/anaconda3/lib/python3.6/site-packages/tensorflow/contrib/learn/python/learn/estimators/linear.py\", line 530, in predict\\n    as_iterable=as_iterable)', 'File \"/home/arcc/anaconda3/lib/python3.6/site-packages/tensorflow/python/util/deprecation.py\", line 347, in new_func\\n    return func(*args, **kwargs)', 'File \"/home/arcc/anaconda3/lib/python3.6/site-packages/tensorflow/contrib/learn/python/learn/estimators/linear.py\", line 565, in predict_classes\\n    as_iterable=as_iterable)', 'File \"/home/arcc/anaconda3/lib/python3.6/site-packages/tensorflow/python/util/deprecation.py\", line 289, in new_func\\n    return func(*args, **kwargs)', 'File \"/home/arcc/anaconda3/lib/python3.6/site-packages/tensorflow/contrib/learn/python/learn/estimators/estimator.py\", line 590, in predict\\n    as_iterable=as_iterable)', 'File \"/home/arcc/anaconda3/lib/python3.6/site-packages/tensorflow/contrib/learn/python/learn/estimators/estimator.py\", line 890, in _infer_model\\n    config=self._session_config))', 'File \"/home/arcc/anaconda3/lib/python3.6/site-packages/tensorflow/python/training/monitored_session.py\", line 648, in __init__\\n    stop_grace_period_secs=stop_grace_period_secs)', 'File \"/home/arcc/anaconda3/lib/python3.6/site-packages/tensorflow/python/training/monitored_session.py\", line 477, in __init__\\n    self._sess = _RecoverableSession(self._coordinated_creator)', 'File \"/home/arcc/anaconda3/lib/python3.6/site-packages/tensorflow/python/training/monitored_session.py\", line 822, in __init__\\n    _WrappedSession.__init__(self, self._create_session())', 'File \"/home/arcc/anaconda3/lib/python3.6/site-packages/tensorflow/python/training/monitored_session.py\", line 827, in _create_session\\n    return self._sess_creator.create_session()', 'File \"/home/arcc/anaconda3/lib/python3.6/site-packages/tensorflow/python/training/monitored_session.py\", line 538, in create_session\\n    self.tf_sess = self._session_creator.create_session()', 'File \"/home/arcc/anaconda3/lib/python3.6/site-packages/tensorflow/python/training/monitored_session.py\", line 403, in create_session\\n    self._scaffold.finalize()', 'File \"/home/arcc/anaconda3/lib/python3.6/site-packages/tensorflow/python/training/monitored_session.py\", line 192, in finalize\\n    default_ready_for_local_init_op)', 'File \"/home/arcc/anaconda3/lib/python3.6/site-packages/tensorflow/python/training/monitored_session.py\", line 254, in get_or_default\\n    op = default_constructor()', 'File \"/home/arcc/anaconda3/lib/python3.6/site-packages/tensorflow/python/training/monitored_session.py\", line 189, in default_ready_for_local_init_op\\n    variables.global_variables())', 'File \"/home/arcc/anaconda3/lib/python3.6/site-packages/tensorflow/python/util/tf_should_use.py\", line 170, in wrapped\\n    return _add_should_use_warning(fn(*args, **kwargs))', 'File \"/home/arcc/anaconda3/lib/python3.6/site-packages/tensorflow/python/util/tf_should_use.py\", line 139, in _add_should_use_warning\\n    wrapped = TFShouldUseWarningWrapper(x)', 'File \"/home/arcc/anaconda3/lib/python3.6/site-packages/tensorflow/python/util/tf_should_use.py\", line 96, in __init__\\n    stack = [s.strip() for s in traceback.format_stack()]']\n",
      "==================================\n",
      "ERROR:tensorflow:==================================\n",
      "Object was never used (type <class 'tensorflow.python.framework.ops.Tensor'>):\n",
      "<tf.Tensor 'report_uninitialized_variables_1/boolean_mask/Gather:0' shape=(?,) dtype=string>\n",
      "If you want to mark it as used call its \"mark_used()\" method.\n",
      "It was originally created here:\n",
      "['File \"/home/arcc/anaconda3/lib/python3.6/runpy.py\", line 193, in _run_module_as_main\\n    \"__main__\", mod_spec)', 'File \"/home/arcc/anaconda3/lib/python3.6/runpy.py\", line 85, in _run_code\\n    exec(code, run_globals)', 'File \"/home/arcc/anaconda3/lib/python3.6/site-packages/ipykernel_launcher.py\", line 16, in <module>\\n    app.launch_new_instance()', 'File \"/home/arcc/anaconda3/lib/python3.6/site-packages/traitlets/config/application.py\", line 658, in launch_instance\\n    app.start()', 'File \"/home/arcc/anaconda3/lib/python3.6/site-packages/ipykernel/kernelapp.py\", line 477, in start\\n    ioloop.IOLoop.instance().start()', 'File \"/home/arcc/anaconda3/lib/python3.6/site-packages/zmq/eventloop/ioloop.py\", line 177, in start\\n    super(ZMQIOLoop, self).start()', 'File \"/home/arcc/anaconda3/lib/python3.6/site-packages/tornado/ioloop.py\", line 888, in start\\n    handler_func(fd_obj, events)', 'File \"/home/arcc/anaconda3/lib/python3.6/site-packages/tornado/stack_context.py\", line 277, in null_wrapper\\n    return fn(*args, **kwargs)', 'File \"/home/arcc/anaconda3/lib/python3.6/site-packages/zmq/eventloop/zmqstream.py\", line 440, in _handle_events\\n    self._handle_recv()', 'File \"/home/arcc/anaconda3/lib/python3.6/site-packages/zmq/eventloop/zmqstream.py\", line 472, in _handle_recv\\n    self._run_callback(callback, msg)', 'File \"/home/arcc/anaconda3/lib/python3.6/site-packages/zmq/eventloop/zmqstream.py\", line 414, in _run_callback\\n    callback(*args, **kwargs)', 'File \"/home/arcc/anaconda3/lib/python3.6/site-packages/tornado/stack_context.py\", line 277, in null_wrapper\\n    return fn(*args, **kwargs)', 'File \"/home/arcc/anaconda3/lib/python3.6/site-packages/ipykernel/kernelbase.py\", line 283, in dispatcher\\n    return self.dispatch_shell(stream, msg)', 'File \"/home/arcc/anaconda3/lib/python3.6/site-packages/ipykernel/kernelbase.py\", line 235, in dispatch_shell\\n    handler(stream, idents, msg)', 'File \"/home/arcc/anaconda3/lib/python3.6/site-packages/ipykernel/kernelbase.py\", line 399, in execute_request\\n    user_expressions, allow_stdin)', 'File \"/home/arcc/anaconda3/lib/python3.6/site-packages/ipykernel/ipkernel.py\", line 196, in do_execute\\n    res = shell.run_cell(code, store_history=store_history, silent=silent)', 'File \"/home/arcc/anaconda3/lib/python3.6/site-packages/ipykernel/zmqshell.py\", line 533, in run_cell\\n    return super(ZMQInteractiveShell, self).run_cell(*args, **kwargs)', 'File \"/home/arcc/anaconda3/lib/python3.6/site-packages/IPython/core/interactiveshell.py\", line 2717, in run_cell\\n    interactivity=interactivity, compiler=compiler, result=result)', 'File \"/home/arcc/anaconda3/lib/python3.6/site-packages/IPython/core/interactiveshell.py\", line 2821, in run_ast_nodes\\n    if self.run_code(code, result):', 'File \"/home/arcc/anaconda3/lib/python3.6/site-packages/IPython/core/interactiveshell.py\", line 2881, in run_code\\n    exec(code_obj, self.user_global_ns, self.user_ns)', 'File \"<ipython-input-19-d5b559f359a4>\", line 2, in <module>\\n    print(classifier.predict(test_data[0]),test_labels[0])', 'File \"/home/arcc/anaconda3/lib/python3.6/site-packages/tensorflow/python/util/deprecation.py\", line 347, in new_func\\n    return func(*args, **kwargs)', 'File \"/home/arcc/anaconda3/lib/python3.6/site-packages/tensorflow/python/util/deprecation.py\", line 347, in new_func\\n    return func(*args, **kwargs)', 'File \"/home/arcc/anaconda3/lib/python3.6/site-packages/tensorflow/contrib/learn/python/learn/estimators/linear.py\", line 530, in predict\\n    as_iterable=as_iterable)', 'File \"/home/arcc/anaconda3/lib/python3.6/site-packages/tensorflow/python/util/deprecation.py\", line 347, in new_func\\n    return func(*args, **kwargs)', 'File \"/home/arcc/anaconda3/lib/python3.6/site-packages/tensorflow/contrib/learn/python/learn/estimators/linear.py\", line 565, in predict_classes\\n    as_iterable=as_iterable)', 'File \"/home/arcc/anaconda3/lib/python3.6/site-packages/tensorflow/python/util/deprecation.py\", line 289, in new_func\\n    return func(*args, **kwargs)', 'File \"/home/arcc/anaconda3/lib/python3.6/site-packages/tensorflow/contrib/learn/python/learn/estimators/estimator.py\", line 590, in predict\\n    as_iterable=as_iterable)', 'File \"/home/arcc/anaconda3/lib/python3.6/site-packages/tensorflow/contrib/learn/python/learn/estimators/estimator.py\", line 890, in _infer_model\\n    config=self._session_config))', 'File \"/home/arcc/anaconda3/lib/python3.6/site-packages/tensorflow/python/training/monitored_session.py\", line 648, in __init__\\n    stop_grace_period_secs=stop_grace_period_secs)', 'File \"/home/arcc/anaconda3/lib/python3.6/site-packages/tensorflow/python/training/monitored_session.py\", line 477, in __init__\\n    self._sess = _RecoverableSession(self._coordinated_creator)', 'File \"/home/arcc/anaconda3/lib/python3.6/site-packages/tensorflow/python/training/monitored_session.py\", line 822, in __init__\\n    _WrappedSession.__init__(self, self._create_session())', 'File \"/home/arcc/anaconda3/lib/python3.6/site-packages/tensorflow/python/training/monitored_session.py\", line 827, in _create_session\\n    return self._sess_creator.create_session()', 'File \"/home/arcc/anaconda3/lib/python3.6/site-packages/tensorflow/python/training/monitored_session.py\", line 538, in create_session\\n    self.tf_sess = self._session_creator.create_session()', 'File \"/home/arcc/anaconda3/lib/python3.6/site-packages/tensorflow/python/training/monitored_session.py\", line 403, in create_session\\n    self._scaffold.finalize()', 'File \"/home/arcc/anaconda3/lib/python3.6/site-packages/tensorflow/python/training/monitored_session.py\", line 192, in finalize\\n    default_ready_for_local_init_op)', 'File \"/home/arcc/anaconda3/lib/python3.6/site-packages/tensorflow/python/training/monitored_session.py\", line 254, in get_or_default\\n    op = default_constructor()', 'File \"/home/arcc/anaconda3/lib/python3.6/site-packages/tensorflow/python/training/monitored_session.py\", line 189, in default_ready_for_local_init_op\\n    variables.global_variables())', 'File \"/home/arcc/anaconda3/lib/python3.6/site-packages/tensorflow/python/util/tf_should_use.py\", line 170, in wrapped\\n    return _add_should_use_warning(fn(*args, **kwargs))', 'File \"/home/arcc/anaconda3/lib/python3.6/site-packages/tensorflow/python/util/tf_should_use.py\", line 139, in _add_should_use_warning\\n    wrapped = TFShouldUseWarningWrapper(x)', 'File \"/home/arcc/anaconda3/lib/python3.6/site-packages/tensorflow/python/util/tf_should_use.py\", line 96, in __init__\\n    stack = [s.strip() for s in traceback.format_stack()]']\n",
      "==================================\n"
     ]
    },
    {
     "name": "stdout",
     "output_type": "stream",
     "text": [
      "ERROR:tensorflow:==================================\n",
      "Object was never used (type <class 'tensorflow.python.framework.ops.Tensor'>):\n",
      "<tf.Tensor 'report_uninitialized_variables_1/boolean_mask/Gather:0' shape=(?,) dtype=string>\n",
      "If you want to mark it as used call its \"mark_used()\" method.\n",
      "It was originally created here:\n",
      "['File \"/home/arcc/anaconda3/lib/python3.6/runpy.py\", line 193, in _run_module_as_main\\n    \"__main__\", mod_spec)', 'File \"/home/arcc/anaconda3/lib/python3.6/runpy.py\", line 85, in _run_code\\n    exec(code, run_globals)', 'File \"/home/arcc/anaconda3/lib/python3.6/site-packages/ipykernel_launcher.py\", line 16, in <module>\\n    app.launch_new_instance()', 'File \"/home/arcc/anaconda3/lib/python3.6/site-packages/traitlets/config/application.py\", line 658, in launch_instance\\n    app.start()', 'File \"/home/arcc/anaconda3/lib/python3.6/site-packages/ipykernel/kernelapp.py\", line 477, in start\\n    ioloop.IOLoop.instance().start()', 'File \"/home/arcc/anaconda3/lib/python3.6/site-packages/zmq/eventloop/ioloop.py\", line 177, in start\\n    super(ZMQIOLoop, self).start()', 'File \"/home/arcc/anaconda3/lib/python3.6/site-packages/tornado/ioloop.py\", line 888, in start\\n    handler_func(fd_obj, events)', 'File \"/home/arcc/anaconda3/lib/python3.6/site-packages/tornado/stack_context.py\", line 277, in null_wrapper\\n    return fn(*args, **kwargs)', 'File \"/home/arcc/anaconda3/lib/python3.6/site-packages/zmq/eventloop/zmqstream.py\", line 440, in _handle_events\\n    self._handle_recv()', 'File \"/home/arcc/anaconda3/lib/python3.6/site-packages/zmq/eventloop/zmqstream.py\", line 472, in _handle_recv\\n    self._run_callback(callback, msg)', 'File \"/home/arcc/anaconda3/lib/python3.6/site-packages/zmq/eventloop/zmqstream.py\", line 414, in _run_callback\\n    callback(*args, **kwargs)', 'File \"/home/arcc/anaconda3/lib/python3.6/site-packages/tornado/stack_context.py\", line 277, in null_wrapper\\n    return fn(*args, **kwargs)', 'File \"/home/arcc/anaconda3/lib/python3.6/site-packages/ipykernel/kernelbase.py\", line 283, in dispatcher\\n    return self.dispatch_shell(stream, msg)', 'File \"/home/arcc/anaconda3/lib/python3.6/site-packages/ipykernel/kernelbase.py\", line 235, in dispatch_shell\\n    handler(stream, idents, msg)', 'File \"/home/arcc/anaconda3/lib/python3.6/site-packages/ipykernel/kernelbase.py\", line 399, in execute_request\\n    user_expressions, allow_stdin)', 'File \"/home/arcc/anaconda3/lib/python3.6/site-packages/ipykernel/ipkernel.py\", line 196, in do_execute\\n    res = shell.run_cell(code, store_history=store_history, silent=silent)', 'File \"/home/arcc/anaconda3/lib/python3.6/site-packages/ipykernel/zmqshell.py\", line 533, in run_cell\\n    return super(ZMQInteractiveShell, self).run_cell(*args, **kwargs)', 'File \"/home/arcc/anaconda3/lib/python3.6/site-packages/IPython/core/interactiveshell.py\", line 2717, in run_cell\\n    interactivity=interactivity, compiler=compiler, result=result)', 'File \"/home/arcc/anaconda3/lib/python3.6/site-packages/IPython/core/interactiveshell.py\", line 2821, in run_ast_nodes\\n    if self.run_code(code, result):', 'File \"/home/arcc/anaconda3/lib/python3.6/site-packages/IPython/core/interactiveshell.py\", line 2881, in run_code\\n    exec(code_obj, self.user_global_ns, self.user_ns)', 'File \"<ipython-input-20-c523763555dc>\", line 2, in <module>\\n    print(classifier.predict(test_data[0]))', 'File \"/home/arcc/anaconda3/lib/python3.6/site-packages/tensorflow/python/util/deprecation.py\", line 347, in new_func\\n    return func(*args, **kwargs)', 'File \"/home/arcc/anaconda3/lib/python3.6/site-packages/tensorflow/python/util/deprecation.py\", line 347, in new_func\\n    return func(*args, **kwargs)', 'File \"/home/arcc/anaconda3/lib/python3.6/site-packages/tensorflow/contrib/learn/python/learn/estimators/linear.py\", line 530, in predict\\n    as_iterable=as_iterable)', 'File \"/home/arcc/anaconda3/lib/python3.6/site-packages/tensorflow/python/util/deprecation.py\", line 347, in new_func\\n    return func(*args, **kwargs)', 'File \"/home/arcc/anaconda3/lib/python3.6/site-packages/tensorflow/contrib/learn/python/learn/estimators/linear.py\", line 565, in predict_classes\\n    as_iterable=as_iterable)', 'File \"/home/arcc/anaconda3/lib/python3.6/site-packages/tensorflow/python/util/deprecation.py\", line 289, in new_func\\n    return func(*args, **kwargs)', 'File \"/home/arcc/anaconda3/lib/python3.6/site-packages/tensorflow/contrib/learn/python/learn/estimators/estimator.py\", line 590, in predict\\n    as_iterable=as_iterable)', 'File \"/home/arcc/anaconda3/lib/python3.6/site-packages/tensorflow/contrib/learn/python/learn/estimators/estimator.py\", line 890, in _infer_model\\n    config=self._session_config))', 'File \"/home/arcc/anaconda3/lib/python3.6/site-packages/tensorflow/python/training/monitored_session.py\", line 648, in __init__\\n    stop_grace_period_secs=stop_grace_period_secs)', 'File \"/home/arcc/anaconda3/lib/python3.6/site-packages/tensorflow/python/training/monitored_session.py\", line 477, in __init__\\n    self._sess = _RecoverableSession(self._coordinated_creator)', 'File \"/home/arcc/anaconda3/lib/python3.6/site-packages/tensorflow/python/training/monitored_session.py\", line 822, in __init__\\n    _WrappedSession.__init__(self, self._create_session())', 'File \"/home/arcc/anaconda3/lib/python3.6/site-packages/tensorflow/python/training/monitored_session.py\", line 827, in _create_session\\n    return self._sess_creator.create_session()', 'File \"/home/arcc/anaconda3/lib/python3.6/site-packages/tensorflow/python/training/monitored_session.py\", line 538, in create_session\\n    self.tf_sess = self._session_creator.create_session()', 'File \"/home/arcc/anaconda3/lib/python3.6/site-packages/tensorflow/python/training/monitored_session.py\", line 403, in create_session\\n    self._scaffold.finalize()', 'File \"/home/arcc/anaconda3/lib/python3.6/site-packages/tensorflow/python/training/monitored_session.py\", line 192, in finalize\\n    default_ready_for_local_init_op)', 'File \"/home/arcc/anaconda3/lib/python3.6/site-packages/tensorflow/python/training/monitored_session.py\", line 254, in get_or_default\\n    op = default_constructor()', 'File \"/home/arcc/anaconda3/lib/python3.6/site-packages/tensorflow/python/training/monitored_session.py\", line 189, in default_ready_for_local_init_op\\n    variables.global_variables())', 'File \"/home/arcc/anaconda3/lib/python3.6/site-packages/tensorflow/python/util/tf_should_use.py\", line 170, in wrapped\\n    return _add_should_use_warning(fn(*args, **kwargs))', 'File \"/home/arcc/anaconda3/lib/python3.6/site-packages/tensorflow/python/util/tf_should_use.py\", line 139, in _add_should_use_warning\\n    wrapped = TFShouldUseWarningWrapper(x)', 'File \"/home/arcc/anaconda3/lib/python3.6/site-packages/tensorflow/python/util/tf_should_use.py\", line 96, in __init__\\n    stack = [s.strip() for s in traceback.format_stack()]']\n",
      "==================================\n",
      "ERROR:tensorflow:==================================\n",
      "Object was never used (type <class 'tensorflow.python.framework.ops.Tensor'>):\n",
      "<tf.Tensor 'report_uninitialized_variables_1/boolean_mask/Gather:0' shape=(?,) dtype=string>\n",
      "If you want to mark it as used call its \"mark_used()\" method.\n",
      "It was originally created here:\n",
      "['File \"/home/arcc/anaconda3/lib/python3.6/runpy.py\", line 193, in _run_module_as_main\\n    \"__main__\", mod_spec)', 'File \"/home/arcc/anaconda3/lib/python3.6/runpy.py\", line 85, in _run_code\\n    exec(code, run_globals)', 'File \"/home/arcc/anaconda3/lib/python3.6/site-packages/ipykernel_launcher.py\", line 16, in <module>\\n    app.launch_new_instance()', 'File \"/home/arcc/anaconda3/lib/python3.6/site-packages/traitlets/config/application.py\", line 658, in launch_instance\\n    app.start()', 'File \"/home/arcc/anaconda3/lib/python3.6/site-packages/ipykernel/kernelapp.py\", line 477, in start\\n    ioloop.IOLoop.instance().start()', 'File \"/home/arcc/anaconda3/lib/python3.6/site-packages/zmq/eventloop/ioloop.py\", line 177, in start\\n    super(ZMQIOLoop, self).start()', 'File \"/home/arcc/anaconda3/lib/python3.6/site-packages/tornado/ioloop.py\", line 888, in start\\n    handler_func(fd_obj, events)', 'File \"/home/arcc/anaconda3/lib/python3.6/site-packages/tornado/stack_context.py\", line 277, in null_wrapper\\n    return fn(*args, **kwargs)', 'File \"/home/arcc/anaconda3/lib/python3.6/site-packages/zmq/eventloop/zmqstream.py\", line 440, in _handle_events\\n    self._handle_recv()', 'File \"/home/arcc/anaconda3/lib/python3.6/site-packages/zmq/eventloop/zmqstream.py\", line 472, in _handle_recv\\n    self._run_callback(callback, msg)', 'File \"/home/arcc/anaconda3/lib/python3.6/site-packages/zmq/eventloop/zmqstream.py\", line 414, in _run_callback\\n    callback(*args, **kwargs)', 'File \"/home/arcc/anaconda3/lib/python3.6/site-packages/tornado/stack_context.py\", line 277, in null_wrapper\\n    return fn(*args, **kwargs)', 'File \"/home/arcc/anaconda3/lib/python3.6/site-packages/ipykernel/kernelbase.py\", line 283, in dispatcher\\n    return self.dispatch_shell(stream, msg)', 'File \"/home/arcc/anaconda3/lib/python3.6/site-packages/ipykernel/kernelbase.py\", line 235, in dispatch_shell\\n    handler(stream, idents, msg)', 'File \"/home/arcc/anaconda3/lib/python3.6/site-packages/ipykernel/kernelbase.py\", line 399, in execute_request\\n    user_expressions, allow_stdin)', 'File \"/home/arcc/anaconda3/lib/python3.6/site-packages/ipykernel/ipkernel.py\", line 196, in do_execute\\n    res = shell.run_cell(code, store_history=store_history, silent=silent)', 'File \"/home/arcc/anaconda3/lib/python3.6/site-packages/ipykernel/zmqshell.py\", line 533, in run_cell\\n    return super(ZMQInteractiveShell, self).run_cell(*args, **kwargs)', 'File \"/home/arcc/anaconda3/lib/python3.6/site-packages/IPython/core/interactiveshell.py\", line 2717, in run_cell\\n    interactivity=interactivity, compiler=compiler, result=result)', 'File \"/home/arcc/anaconda3/lib/python3.6/site-packages/IPython/core/interactiveshell.py\", line 2827, in run_ast_nodes\\n    if self.run_code(code, result):', 'File \"/home/arcc/anaconda3/lib/python3.6/site-packages/IPython/core/interactiveshell.py\", line 2881, in run_code\\n    exec(code_obj, self.user_global_ns, self.user_ns)', 'File \"<ipython-input-25-b882ee1dadc7>\", line 2, in <module>\\n    print(classifier.predict(test_data[0].reshape((28,28))))', 'File \"/home/arcc/anaconda3/lib/python3.6/site-packages/tensorflow/python/util/deprecation.py\", line 347, in new_func\\n    return func(*args, **kwargs)', 'File \"/home/arcc/anaconda3/lib/python3.6/site-packages/tensorflow/python/util/deprecation.py\", line 347, in new_func\\n    return func(*args, **kwargs)', 'File \"/home/arcc/anaconda3/lib/python3.6/site-packages/tensorflow/contrib/learn/python/learn/estimators/linear.py\", line 530, in predict\\n    as_iterable=as_iterable)', 'File \"/home/arcc/anaconda3/lib/python3.6/site-packages/tensorflow/python/util/deprecation.py\", line 347, in new_func\\n    return func(*args, **kwargs)', 'File \"/home/arcc/anaconda3/lib/python3.6/site-packages/tensorflow/contrib/learn/python/learn/estimators/linear.py\", line 565, in predict_classes\\n    as_iterable=as_iterable)', 'File \"/home/arcc/anaconda3/lib/python3.6/site-packages/tensorflow/python/util/deprecation.py\", line 289, in new_func\\n    return func(*args, **kwargs)', 'File \"/home/arcc/anaconda3/lib/python3.6/site-packages/tensorflow/contrib/learn/python/learn/estimators/estimator.py\", line 590, in predict\\n    as_iterable=as_iterable)', 'File \"/home/arcc/anaconda3/lib/python3.6/site-packages/tensorflow/contrib/learn/python/learn/estimators/estimator.py\", line 890, in _infer_model\\n    config=self._session_config))', 'File \"/home/arcc/anaconda3/lib/python3.6/site-packages/tensorflow/python/training/monitored_session.py\", line 648, in __init__\\n    stop_grace_period_secs=stop_grace_period_secs)', 'File \"/home/arcc/anaconda3/lib/python3.6/site-packages/tensorflow/python/training/monitored_session.py\", line 477, in __init__\\n    self._sess = _RecoverableSession(self._coordinated_creator)', 'File \"/home/arcc/anaconda3/lib/python3.6/site-packages/tensorflow/python/training/monitored_session.py\", line 822, in __init__\\n    _WrappedSession.__init__(self, self._create_session())', 'File \"/home/arcc/anaconda3/lib/python3.6/site-packages/tensorflow/python/training/monitored_session.py\", line 827, in _create_session\\n    return self._sess_creator.create_session()', 'File \"/home/arcc/anaconda3/lib/python3.6/site-packages/tensorflow/python/training/monitored_session.py\", line 538, in create_session\\n    self.tf_sess = self._session_creator.create_session()', 'File \"/home/arcc/anaconda3/lib/python3.6/site-packages/tensorflow/python/training/monitored_session.py\", line 403, in create_session\\n    self._scaffold.finalize()', 'File \"/home/arcc/anaconda3/lib/python3.6/site-packages/tensorflow/python/training/monitored_session.py\", line 192, in finalize\\n    default_ready_for_local_init_op)', 'File \"/home/arcc/anaconda3/lib/python3.6/site-packages/tensorflow/python/training/monitored_session.py\", line 254, in get_or_default\\n    op = default_constructor()', 'File \"/home/arcc/anaconda3/lib/python3.6/site-packages/tensorflow/python/training/monitored_session.py\", line 189, in default_ready_for_local_init_op\\n    variables.global_variables())', 'File \"/home/arcc/anaconda3/lib/python3.6/site-packages/tensorflow/python/util/tf_should_use.py\", line 170, in wrapped\\n    return _add_should_use_warning(fn(*args, **kwargs))', 'File \"/home/arcc/anaconda3/lib/python3.6/site-packages/tensorflow/python/util/tf_should_use.py\", line 139, in _add_should_use_warning\\n    wrapped = TFShouldUseWarningWrapper(x)', 'File \"/home/arcc/anaconda3/lib/python3.6/site-packages/tensorflow/python/util/tf_should_use.py\", line 96, in __init__\\n    stack = [s.strip() for s in traceback.format_stack()]']\n",
      "==================================\n"
     ]
    },
    {
     "name": "stdout",
     "output_type": "stream",
     "text": [
      "[7, 2, 1, 0, 4, 1, 4, 9, 6, 9]\n",
      "7\n"
     ]
    },
    {
     "data": {
      "image/png": "[encoded data removed]",
      "text/plain": [
       "<matplotlib.figure.Figure at 0x7f286418fd30>"
      ]
     },
     "metadata": {},
     "output_type": "display_data"
    }
   ],
   "source": [
    "print(\"Predicted label and actual label are as following:\")\n",
    "print(list(classifier.predict(test_data[0:10])))\n",
    "print(test_labels[0])\n",
    "display(0)"
   ]
  },
  {
   "cell_type": "code",
   "execution_count": null,
   "metadata": {
    "collapsed": true
   },
   "outputs": [],
   "source": []
  }
 ],
 "metadata": {
  "kernelspec": {
   "display_name": "Python 3",
   "language": "python",
   "name": "python3"
  },
  "language_info": {
   "codemirror_mode": {
    "name": "ipython",
    "version": 3
   },
   "file_extension": ".py",
   "mimetype": "text/x-python",
   "name": "python",
   "nbconvert_exporter": "python",
   "pygments_lexer": "ipython3",
   "version": "3.6.1"
  }
 },
 "nbformat": 4,
 "nbformat_minor": 2
}
